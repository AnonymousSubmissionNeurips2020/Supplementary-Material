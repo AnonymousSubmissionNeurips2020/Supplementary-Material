{
 "cells": [
  {
   "cell_type": "markdown",
   "metadata": {},
   "source": [
    "# Dataset Preprocessing"
   ]
  },
  {
   "cell_type": "markdown",
   "metadata": {},
   "source": [
    "## If unzip or bzip2 not installed"
   ]
  },
  {
   "cell_type": "raw",
   "metadata": {},
   "source": [
    "%%bash\n",
    "echo $PASSWORD | sudo -S apt-get install unzip\n",
    "echo $PASSWORD | sudo -S apt-get install bzip2"
   ]
  },
  {
   "cell_type": "markdown",
   "metadata": {},
   "source": [
    "## Download and unzip UCI datasets"
   ]
  },
  {
   "cell_type": "code",
   "execution_count": null,
   "metadata": {
    "jupyter": {
     "outputs_hidden": true
    }
   },
   "outputs": [],
   "source": [
    "%%bash\n",
    "wget \"http://archive.ics.uci.edu/ml/machine-learning-databases/00291/airfoil_self_noise.dat\"\n",
    "wget \"http://archive.ics.uci.edu/ml/machine-learning-databases/00220/Relation%20Network%20(Directed).data\" \n",
    "wget \"https://archive.ics.uci.edu/ml/machine-learning-databases/cpu-performance/machine.data\" \n",
    "wget \"http://archive.ics.uci.edu/ml/machine-learning-databases/concrete/slump/slump_test.data\" \n",
    "wget \"http://archive.ics.uci.edu/ml/machine-learning-databases/communities/communities.data\" \n",
    "wget \"http://archive.ics.uci.edu/ml/machine-learning-databases/00243/yacht_hydrodynamics.data\" \n",
    "wget \"http://archive.ics.uci.edu/ml/machine-learning-databases/concrete/compressive/Concrete_Data.xls\" \n",
    "wget \"http://archive.ics.uci.edu/ml/machine-learning-databases/00424/2014%20and%202015%20CSM%20dataset.xlsx\" \n",
    "wget \"http://archive.ics.uci.edu/ml/machine-learning-databases/00265/CASP.csv\" \n",
    "wget \"http://archive.ics.uci.edu/ml/machine-learning-databases/00368/Facebook_metrics.zip\" \n",
    "unzip Facebook_metrics.zip \n",
    "rm Facebook_metrics.zip \n",
    "wget \"http://archive.ics.uci.edu/ml/machine-learning-databases/00335/online_video_dataset.zip\" \n",
    "unzip online_video_dataset.zip \n",
    "rm online_video_dataset.zip \n",
    "wget \"http://archive.ics.uci.edu/ml/machine-learning-databases/00332/OnlineNewsPopularity.zip\" \n",
    "unzip OnlineNewsPopularity.zip \n",
    "rm OnlineNewsPopularity.zip \n",
    "wget \"http://archive.ics.uci.edu/ml/machine-learning-databases/00206/slice_localization_data.zip\" \n",
    "unzip slice_localization_data.zip \n",
    "rm slice_localization_data.zip \n",
    "wget \"https://archive.ics.uci.edu/ml/machine-learning-databases/00310/UJIndoorLoc.zip\" \n",
    "unzip UJIndoorLoc.zip \n",
    "rm UJIndoorLoc.zip "
   ]
  },
  {
   "cell_type": "markdown",
   "metadata": {},
   "source": [
    "## Download and unzip news20"
   ]
  },
  {
   "cell_type": "code",
   "execution_count": null,
   "metadata": {},
   "outputs": [],
   "source": [
    "%%bash\n",
    "wget https://www.csie.ntu.edu.tw/~cjlin/libsvmtools/datasets/multiclass/news20.scale.bz2\n",
    "wget https://www.csie.ntu.edu.tw/~cjlin/libsvmtools/datasets/multiclass/news20.t.scale.bz2\n",
    "bzip2 -dk news20.scale.bz2\n",
    "bzip2 -dk news20.t.scale.bz2"
   ]
  },
  {
   "cell_type": "markdown",
   "metadata": {},
   "source": [
    "## Import preprocessing libraries"
   ]
  },
  {
   "cell_type": "code",
   "execution_count": null,
   "metadata": {},
   "outputs": [],
   "source": [
    "import pandas as pd\n",
    "import numpy as np\n",
    "from sklearn.impute import SimpleImputer\n",
    "import sklearn.datasets as ds\n",
    "from torch import torch"
   ]
  },
  {
   "cell_type": "markdown",
   "metadata": {},
   "source": [
    "## Preprocessing UCI"
   ]
  },
  {
   "cell_type": "code",
   "execution_count": null,
   "metadata": {},
   "outputs": [],
   "source": [
    "mat = pd.read_csv( \"slump_test.data\", header = 0, sep =\",\").values[:,1:]\n",
    "np.save(\"UCI_dataset_01\", np.delete(mat, -3, axis=1)[:,:-1])\n",
    "np.save(\"UCI_dataset_02\", np.delete(np.delete(mat, -2, axis=1) , -2, axis=1))\n",
    "\n",
    "mat = pd.read_csv( \"machine.data\", header = None, sep =\",\").values[:,2:]\n",
    "mat[mat == \"?\"] =None\n",
    "mat = mat.astype(float)\n",
    "mat[mat == None] = np.nan\n",
    "mat = SimpleImputer(missing_values=np.nan, strategy='mean').fit_transform(mat)\n",
    "np.save(\"UCI_dataset_03\", mat)\n",
    "\n",
    "df = pd.read_excel( \"2014 and 2015 CSM dataset.xlsx\", header = 0)\n",
    "Ratings_cols = ['Budget', 'Screens',\n",
    "       'Sequel', 'Sentiment', 'Views', 'Likes', 'Dislikes', 'Comments',\n",
    "       'Aggregate Followers', 'Ratings']\n",
    "mat = df[Ratings_cols].values\n",
    "mat = SimpleImputer(missing_values=np.nan, strategy='mean').fit_transform(mat)\n",
    "np.save(\"UCI_dataset_04\", mat)\n",
    "\n",
    "np.save(\"UCI_dataset_05\", pd.read_csv( \"yacht_hydrodynamics.data\", header = None, sep=\"\\s+\").values)\n",
    "\n",
    "np.save(\"UCI_dataset_06\",pd.read_excel( \"Concrete_Data.xls\", header = 0).values.astype(float))\n",
    "\n",
    "np.save(\"UCI_dataset_07\", pd.read_csv(\"airfoil_self_noise.dat\", header = None, sep =\"\\t\").values)\n",
    "\n",
    "mat = pd.read_csv( \"communities.data\", header = None, sep =\",\").values[:,5:]\n",
    "mat[mat == \"?\"] =None\n",
    "mat = mat.astype(float)\n",
    "mat[mat == None] = np.nan\n",
    "mat = SimpleImputer(missing_values=np.nan, strategy='mean').fit_transform(mat)\n",
    "np.save(\"UCI_dataset_08\", mat)\n",
    "\n",
    "np.save(\"UCI_dataset_09\", pd.read_csv( \"CASP.csv\", header = 0)[['F1', 'F2', 'F3', 'F4', 'F5', 'F6', 'F7', 'F8', 'F9', 'RMSD']].values.astype(float))\n",
    "\n",
    "np.save(\"UCI_dataset_10\", pd.read_csv(\"Relation Network (Directed).data\", header = None, sep =\",\").values[:,1:].astype(float))\n",
    "\n",
    "\n",
    "cols = ['duration', 'width', 'height', 'bitrate', 'framerate',\n",
    "       'i', 'p', 'b', 'frames', 'i_size', 'p_size', 'b_size', 'size',\n",
    "        'o_bitrate', 'o_framerate', 'o_width', 'o_height', 'umem',\n",
    "       'utime']\n",
    "\n",
    "np.save(\"UCI_dataset_11\", pd.read_csv(\"transcoding_mesurment.tsv\" , header = 0, sep = \"\\t\")[cols].values)\n",
    "\n",
    "df = pd.read_csv(\"UJIndoorLoc/trainingData.csv\" , header = 0, sep = \",\").iloc[:,:522]\n",
    "lat = [col for col in df.columns if col != 'LONGITUDE']\n",
    "long = [col for col in df.columns if col != 'LATITUDE']\n",
    "np.save(\"UCI_dataset_12\", df[lat].values)\n",
    "np.save(\"UCI_dataset_13\", df[long].values)\n",
    "\n",
    "np.save(\"UCI_dataset_14\", pd.read_csv(\"slice_localization_data.csv\" , header = 0, sep = \",\").values[:,1:])"
   ]
  },
  {
   "cell_type": "markdown",
   "metadata": {},
   "source": [
    "## Preprocessing news20"
   ]
  },
  {
   "cell_type": "code",
   "execution_count": null,
   "metadata": {},
   "outputs": [],
   "source": [
    "dataset_name = \"news20\"\n",
    "X_train, y_train = ds.load_svmlight_file(dataset_name+'.scale', multilabel = False)\n",
    "X_test, y_test = ds.load_svmlight_file(dataset_name+'.t.scale', multilabel = False)\n",
    "    \n",
    "cut_feature = 35830\n",
    "#arbitrarly take 35830 first components to speed up computation time\n",
    "X_train, X_test = X_train[:, :cut_feature], X_test[:, :cut_feature]\n",
    "\n",
    "XT = X_train.transpose()\n",
    "XTX = XT.dot(X_train)\n",
    "dense_XTX = XTX.todense()\n",
    "tensor_XTX = torch.tensor(dense_XTX).float()\n",
    "\n",
    "# quite long process on cpu... (about 30 minutes)\n",
    "with torch.no_grad():\n",
    "    E, U = torch.symeig(tensor_XTX, eigenvectors=True)    \n",
    "E = E.detach().numpy()\n",
    "U = U.detach().numpy()\n",
    "    \n",
    "# keep 80 of variance by selecting the biggest eigen values\n",
    "pos = E[E > 0.]\n",
    "repartition = pos[::-1].cumsum()/pos.sum()\n",
    "cut_eigen = 0.8\n",
    "E_cut = E[-(repartition< cut_eigen).astype(int).sum():]\n",
    "U_cut = U[:,-(repartition< cut_eigen).astype(int).sum():]\n",
    "np.save(dataset_name+\"_E_\"+str(cut_eigen)+\"_cut.npy\",E_cut)\n",
    "np.save(dataset_name+\"_U_\"+str(cut_eigen)+\"_cut.npy\",U_cut)\n",
    "\n",
    "# transform features in principal components\n",
    "np.save(dataset_name+\"_X_train\",X_train.dot(U_cut))\n",
    "np.save(dataset_name+\"_X_test\",X_test.dot(U_cut))"
   ]
  },
  {
   "cell_type": "markdown",
   "metadata": {},
   "source": [
    "## Remove raw datasets"
   ]
  },
  {
   "cell_type": "code",
   "execution_count": null,
   "metadata": {},
   "outputs": [],
   "source": [
    "%%bash\n",
    "rm \"airfoil_self_noise.dat\"\n",
    "rm \"Relation Network (Directed).data\"\n",
    "rm \"machine.data\"\n",
    "rm \"slump_test.data\"\n",
    "rm \"communities.data\"\n",
    "rm \"yacht_hydrodynamics.data\"\n",
    "rm \"Concrete_Data.xls\"\n",
    "rm \"2014 and 2015 CSM dataset.xlsx\"\n",
    "rm \"CASP.csv\"\n",
    "rm \"dataset_Facebook.csv\"\n",
    "rm \"Facebook_metrics.txt\"\n",
    "rm \"transcoding_mesurment.tsv\"\n",
    "rm \"youtube_videos.tsv\"\n",
    "rm \"README.txt\"\n",
    "rm -r \"OnlineNewsPopularity\"\n",
    "rm \"slice_localization_data.csv\"\n",
    "rm -r \"UJIndoorLoc\"\n",
    "rm \"news20.scale\"\n",
    "rm \"news20.t.scale\""
   ]
  }
 ],
 "metadata": {
  "kernelspec": {
   "display_name": "Python 3",
   "language": "python",
   "name": "python3"
  },
  "language_info": {
   "codemirror_mode": {
    "name": "ipython",
    "version": 3
   },
   "file_extension": ".py",
   "mimetype": "text/x-python",
   "name": "python",
   "nbconvert_exporter": "python",
   "pygments_lexer": "ipython3",
   "version": "3.7.1"
  }
 },
 "nbformat": 4,
 "nbformat_minor": 4
}
