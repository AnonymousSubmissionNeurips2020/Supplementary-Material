{
 "cells": [
  {
   "cell_type": "code",
   "execution_count": null,
   "metadata": {},
   "outputs": [],
   "source": [
    "import numpy as np\n",
    "from numpy.random import uniform, normal, choice, multivariate_normal\n",
    "def generate_data(scenario, n, p, seed):\n",
    "    np.random.seed(seed)\n",
    "    if scenario == \"A\":\n",
    "        noise = 50\n",
    "        cov = (0.5**uniform(1,2, size = (p,p))) * (np.ones((p,p))-np.eye(p)) + np.eye(p)\n",
    "        X = multivariate_normal(mean = np.zeros(p), cov = cov, size = n)\n",
    "        coef = uniform(9,15, size = p) * np.sign(uniform(-1,1, size = p))\n",
    "        y = X.dot(coef) + normal(scale = noise, size = n)\n",
    "        return X, y       \n",
    "\n",
    "    if scenario == \"B\":\n",
    "        sparsity = 11 \n",
    "        noise= 10\n",
    "        X = normal(size = [n,p])\n",
    "        coef = np.zeros(p)\n",
    "        sup = choice(np.arange(p), sparsity, replace = False)\n",
    "        coef[sup] = uniform(9,15, size = sparsity) * np.sign(uniform(-1,1, size = sparsity))\n",
    "        y = X.dot(coef) + normal(scale = noise, size = n)\n",
    "        return X, y\n",
    "    \n",
    "    if scenario == \"C\":\n",
    "        sparsity = 35\n",
    "        noise = 50\n",
    "        cov = (0.5 ** uniform(1,2, size = (p,p))) * (np.ones((p,p))-np.eye(p)) + np.eye(p)\n",
    "        X = multivariate_normal(mean = np.zeros(p), cov = cov, size = n)\n",
    "        coef = np.zeros(p)\n",
    "        coef[:sparsity] = uniform(9, 15, size = sparsity) * np.sign(uniform(-1,1, size = sparsity))\n",
    "        y = X.dot(coef) + normal(scale = noise, size = n)\n",
    "        return X, y"
   ]
  },
  {
   "cell_type": "code",
   "execution_count": null,
   "metadata": {
    "scrolled": false
   },
   "outputs": [],
   "source": [
    "n_simulations = 100\n",
    "n, p =  1000+100, 80\n",
    "dataset_repository = \"dataset_folder/\"\n",
    "for scenario in [\"A\",\"B\",\"C\"]:\n",
    "    for seed in range(n_simulations):\n",
    "        X, y = generate_data(scenario, n, p, seed)\n",
    "        np.save(dataset_repository+\"synthetic_data_scenario_\"+scenario+\"_seed_\"+str(seed)+\"_X\", X)\n",
    "        np.save(dataset_repository+\"synthetic_data_scenario_\"+scenario+\"_seed_\"+str(seed)+\"_y\", y)"
   ]
  }
 ],
 "metadata": {
  "kernelspec": {
   "display_name": "Python 3",
   "language": "python",
   "name": "python3"
  },
  "language_info": {
   "codemirror_mode": {
    "name": "ipython",
    "version": 3
   },
   "file_extension": ".py",
   "mimetype": "text/x-python",
   "name": "python",
   "nbconvert_exporter": "python",
   "pygments_lexer": "ipython3",
   "version": "3.7.1"
  }
 },
 "nbformat": 4,
 "nbformat_minor": 4
}
